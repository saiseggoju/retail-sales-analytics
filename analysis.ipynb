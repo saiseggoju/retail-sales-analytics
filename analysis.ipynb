{
 "cells": [
  {
   "cell_type": "code",
   "execution_count": 3,
   "id": "501f9a44-7920-4629-bf72-c93054673466",
   "metadata": {},
   "outputs": [
    {
     "name": "stdout",
     "output_type": "stream",
     "text": [
      "C:\\Users\\sai seggoju\\retail-sales-analytics\n"
     ]
    }
   ],
   "source": [
    "import os\n",
    "print(os.getcwd())\n",
    "\n",
    "\n"
   ]
  },
  {
   "cell_type": "code",
   "execution_count": 4,
   "id": "094bef52-cb65-4afc-995d-f908534f16e7",
   "metadata": {},
   "outputs": [],
   "source": [
    "import os\n",
    "os.makedirs(\"data\", exist_ok=True)\n"
   ]
  },
  {
   "cell_type": "code",
   "execution_count": 5,
   "id": "2c615380-c56e-437c-ad4b-f3549a806912",
   "metadata": {},
   "outputs": [
    {
     "name": "stdout",
     "output_type": "stream",
     "text": [
      "✅ Dataset loaded!\n"
     ]
    },
    {
     "data": {
      "text/html": [
       "<div>\n",
       "<style scoped>\n",
       "    .dataframe tbody tr th:only-of-type {\n",
       "        vertical-align: middle;\n",
       "    }\n",
       "\n",
       "    .dataframe tbody tr th {\n",
       "        vertical-align: top;\n",
       "    }\n",
       "\n",
       "    .dataframe thead th {\n",
       "        text-align: right;\n",
       "    }\n",
       "</style>\n",
       "<table border=\"1\" class=\"dataframe\">\n",
       "  <thead>\n",
       "    <tr style=\"text-align: right;\">\n",
       "      <th></th>\n",
       "      <th>OrderID</th>\n",
       "      <th>Date</th>\n",
       "      <th>Product</th>\n",
       "      <th>Category</th>\n",
       "      <th>Quantity</th>\n",
       "      <th>UnitPrice</th>\n",
       "      <th>TotalSales</th>\n",
       "    </tr>\n",
       "  </thead>\n",
       "  <tbody>\n",
       "    <tr>\n",
       "      <th>0</th>\n",
       "      <td>1</td>\n",
       "      <td>2024-01-10</td>\n",
       "      <td>Shirt</td>\n",
       "      <td>Clothing</td>\n",
       "      <td>2</td>\n",
       "      <td>20</td>\n",
       "      <td>40</td>\n",
       "    </tr>\n",
       "    <tr>\n",
       "      <th>1</th>\n",
       "      <td>2</td>\n",
       "      <td>2024-01-15</td>\n",
       "      <td>Shoes</td>\n",
       "      <td>Footwear</td>\n",
       "      <td>1</td>\n",
       "      <td>50</td>\n",
       "      <td>50</td>\n",
       "    </tr>\n",
       "    <tr>\n",
       "      <th>2</th>\n",
       "      <td>3</td>\n",
       "      <td>2024-02-05</td>\n",
       "      <td>Hat</td>\n",
       "      <td>Accessories</td>\n",
       "      <td>3</td>\n",
       "      <td>10</td>\n",
       "      <td>30</td>\n",
       "    </tr>\n",
       "    <tr>\n",
       "      <th>3</th>\n",
       "      <td>4</td>\n",
       "      <td>2024-02-15</td>\n",
       "      <td>Shirt</td>\n",
       "      <td>Clothing</td>\n",
       "      <td>1</td>\n",
       "      <td>20</td>\n",
       "      <td>20</td>\n",
       "    </tr>\n",
       "    <tr>\n",
       "      <th>4</th>\n",
       "      <td>5</td>\n",
       "      <td>2024-03-01</td>\n",
       "      <td>Shoes</td>\n",
       "      <td>Footwear</td>\n",
       "      <td>2</td>\n",
       "      <td>50</td>\n",
       "      <td>100</td>\n",
       "    </tr>\n",
       "  </tbody>\n",
       "</table>\n",
       "</div>"
      ],
      "text/plain": [
       "   OrderID        Date Product     Category  Quantity  UnitPrice  TotalSales \n",
       "0        1  2024-01-10   Shirt     Clothing         2         20           40\n",
       "1        2  2024-01-15   Shoes     Footwear         1         50           50\n",
       "2        3  2024-02-05     Hat  Accessories         3         10           30\n",
       "3        4  2024-02-15   Shirt     Clothing         1         20           20\n",
       "4        5  2024-03-01   Shoes     Footwear         2         50          100"
      ]
     },
     "execution_count": 5,
     "metadata": {},
     "output_type": "execute_result"
    }
   ],
   "source": [
    "import pandas as pd\n",
    "\n",
    "df = pd.read_csv(\"data/retail_sales.csv\")  # now it will work\n",
    "print(\"✅ Dataset loaded!\")\n",
    "df.head()"
   ]
  },
  {
   "cell_type": "code",
   "execution_count": 6,
   "id": "c3630e84-c6b6-42eb-b90a-1ffb99f7425f",
   "metadata": {},
   "outputs": [
    {
     "name": "stdout",
     "output_type": "stream",
     "text": [
      "<class 'pandas.core.frame.DataFrame'>\n",
      "RangeIndex: 6 entries, 0 to 5\n",
      "Data columns (total 7 columns):\n",
      " #   Column       Non-Null Count  Dtype \n",
      "---  ------       --------------  ----- \n",
      " 0   OrderID      6 non-null      int64 \n",
      " 1   Date         6 non-null      object\n",
      " 2   Product      6 non-null      object\n",
      " 3   Category     6 non-null      object\n",
      " 4   Quantity     6 non-null      int64 \n",
      " 5   UnitPrice    6 non-null      int64 \n",
      " 6   TotalSales   6 non-null      int64 \n",
      "dtypes: int64(4), object(3)\n",
      "memory usage: 468.0+ bytes\n",
      "None\n",
      "        OrderID  Quantity   UnitPrice  TotalSales \n",
      "count  6.000000  6.000000    6.000000     6.000000\n",
      "mean   3.500000  1.666667   41.666667    56.666667\n",
      "std    1.870829  0.816497   33.115958    35.023801\n",
      "min    1.000000  1.000000   10.000000    20.000000\n",
      "25%    2.250000  1.000000   20.000000    32.500000\n",
      "50%    3.500000  1.500000   35.000000    45.000000\n",
      "75%    4.750000  2.000000   50.000000    87.500000\n",
      "max    6.000000  3.000000  100.000000   100.000000\n",
      "Missing values:\n",
      " OrderID        0\n",
      "Date           0\n",
      "Product        0\n",
      "Category       0\n",
      "Quantity       0\n",
      "UnitPrice      0\n",
      "TotalSales     0\n",
      "dtype: int64\n"
     ]
    }
   ],
   "source": [
    "# Check dataset info\n",
    "print(df.info())\n",
    "\n",
    "# Summary statistics\n",
    "print(df.describe())\n",
    "\n",
    "# Check missing values\n",
    "print(\"Missing values:\\n\", df.isnull().sum())\n"
   ]
  },
  {
   "cell_type": "code",
   "execution_count": 10,
   "id": "18077218-79be-419b-897b-3686ffd7f8cd",
   "metadata": {},
   "outputs": [
    {
     "name": "stderr",
     "output_type": "stream",
     "text": [
      "C:\\Users\\sai seggoju\\AppData\\Local\\Temp\\ipykernel_37048\\1818987507.py:21: UserWarning: Glyph 128200 (\\N{CHART WITH UPWARDS TREND}) missing from font(s) DejaVu Sans.\n",
      "  plt.tight_layout()\n",
      "C:\\Users\\sai seggoju\\AppData\\Local\\Programs\\Python\\Python312\\Lib\\site-packages\\IPython\\core\\pylabtools.py:170: UserWarning: Glyph 128200 (\\N{CHART WITH UPWARDS TREND}) missing from font(s) DejaVu Sans.\n",
      "  fig.canvas.print_figure(bytes_io, **kw)\n"
     ]
    },
    {
     "data": {
      "image/png": "[encoded data removed]",
      "text/plain": [
       "<Figure size 800x500 with 1 Axes>"
      ]
     },
     "metadata": {},
     "output_type": "display_data"
    }
   ],
   "source": [
    "# Make sure Date is datetime\n",
    "df['Date'] = pd.to_datetime(df['Date'])\n",
    "\n",
    "# If TotalSales column does not exist, create it\n",
    "if 'TotalSales' not in df.columns:\n",
    "    df['TotalSales'] = df['Quantity'] * df['UnitPrice']\n",
    "\n",
    "# Group sales by month\n",
    "monthly_sales = df.groupby(df['Date'].dt.to_period(\"M\"))['TotalSales'].sum()\n",
    "\n",
    "# Convert PeriodIndex to string for plotting\n",
    "monthly_sales.index = monthly_sales.index.astype(str)\n",
    "\n",
    "# Plot\n",
    "plt.figure(figsize=(8,5))\n",
    "monthly_sales.plot(kind='bar', color=\"skyblue\")\n",
    "plt.title(\"📈 Monthly Sales Trend\")\n",
    "plt.ylabel(\"Total Sales\")\n",
    "plt.xlabel(\"Month\")\n",
    "plt.xticks(rotation=45)\n",
    "plt.tight_layout()\n",
    "plt.show()\n",
    "\n",
    "\n",
    "\n",
    "\n"
   ]
  },
  {
   "cell_type": "code",
   "execution_count": 11,
   "id": "2b06e04f-3870-45d2-9047-2cc6a36a8c9e",
   "metadata": {},
   "outputs": [
    {
     "data": {
      "text/plain": [
       "<Figure size 640x480 with 0 Axes>"
      ]
     },
     "metadata": {},
     "output_type": "display_data"
    }
   ],
   "source": [
    "# Save chart to file\n",
    "plt.savefig(\"reports/figures/monthly_sales_trend.png\")\n",
    "plt.show()\n"
   ]
  },
  {
   "cell_type": "code",
   "execution_count": 12,
   "id": "5541417a-2108-476b-8d00-107f513eec65",
   "metadata": {},
   "outputs": [
    {
     "name": "stderr",
     "output_type": "stream",
     "text": [
      "C:\\Users\\sai seggoju\\AppData\\Local\\Temp\\ipykernel_37048\\2237228804.py:5: UserWarning: Glyph 127942 (\\N{TROPHY}) missing from font(s) DejaVu Sans.\n",
      "  plt.savefig(\"reports/figures/top_products.png\")\n",
      "C:\\Users\\sai seggoju\\AppData\\Local\\Programs\\Python\\Python312\\Lib\\site-packages\\IPython\\core\\pylabtools.py:170: UserWarning: Glyph 127942 (\\N{TROPHY}) missing from font(s) DejaVu Sans.\n",
      "  fig.canvas.print_figure(bytes_io, **kw)\n"
     ]
    },
    {
     "data": {
      "image/png": "[encoded data removed]",
      "text/plain": [
       "<Figure size 640x480 with 1 Axes>"
      ]
     },
     "metadata": {},
     "output_type": "display_data"
    }
   ],
   "source": [
    "top_products = df.groupby(\"Product\")[\"TotalSales\"].sum().sort_values(ascending=False).head(5)\n",
    "top_products.plot(kind=\"bar\", color=\"orange\")\n",
    "plt.title(\"🏆 Top 5 Products by Sales\")\n",
    "plt.ylabel(\"Total Sales\")\n",
    "plt.savefig(\"reports/figures/top_products.png\")\n",
    "plt.show()\n"
   ]
  },
  {
   "cell_type": "code",
   "execution_count": null,
   "id": "ed5e77d6-a72a-4ed2-98f8-062c91db9e07",
   "metadata": {},
   "outputs": [],
   "source": []
  }
 ],
 "metadata": {
  "kernelspec": {
   "display_name": "Python 3 (ipykernel)",
   "language": "python",
   "name": "python3"
  },
  "language_info": {
   "codemirror_mode": {
    "name": "ipython",
    "version": 3
   },
   "file_extension": ".py",
   "mimetype": "text/x-python",
   "name": "python",
   "nbconvert_exporter": "python",
   "pygments_lexer": "ipython3",
   "version": "3.12.1"
  }
 },
 "nbformat": 4,
 "nbformat_minor": 5
}
